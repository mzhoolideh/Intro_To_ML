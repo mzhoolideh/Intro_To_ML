{
 "cells": [
  {
   "cell_type": "markdown",
   "id": "matched-thanks",
   "metadata": {},
   "source": [
    "# Linear Algebra with Numpy"
   ]
  },
  {
   "cell_type": "code",
   "execution_count": 1,
   "id": "bored-queens",
   "metadata": {},
   "outputs": [],
   "source": [
    "# import packages\n",
    "import numpy as np\n",
    "import matplotlib.pyplot as plt"
   ]
  },
  {
   "cell_type": "markdown",
   "id": "precious-interference",
   "metadata": {},
   "source": [
    "<h1>Vectors</h1><a id=\"ch-vectors\"></a>"
   ]
  },
  {
   "cell_type": "code",
   "execution_count": 2,
   "id": "polish-vanilla",
   "metadata": {},
   "outputs": [],
   "source": [
    "# 1D array\n",
    "v1 = np.array([3,10])\n",
    "# 2D array\n",
    "v2 = np.array([3,4])"
   ]
  },
  {
   "cell_type": "code",
   "execution_count": 3,
   "id": "organizational-cedar",
   "metadata": {},
   "outputs": [
    {
     "data": {
      "image/png": "[encoded data removed]",
      "text/plain": [
       "<Figure size 432x288 with 1 Axes>"
      ]
     },
     "metadata": {
      "needs_background": "light"
     },
     "output_type": "display_data"
    }
   ],
   "source": [
    "def plot_2D_vector(vector, origin=np.array([0,0]), color='blue', head_width=0.3, head_length=0.5, xlim='auto', ylim='auto'):\n",
    "    ax = plt.axes()\n",
    "    end_point = vector + origin\n",
    "    ax.arrow(origin[0], origin[1], end_point[0], end_point[1],\n",
    "            head_width=head_width, head_length=head_length, fc=color, ec=color)\n",
    "    \n",
    "    if xlim == 'auto':\n",
    "        plt.xlim(min(origin[0], end_point[0]) -2 , max(origin[0], end_point[0]) + 2)\n",
    "    else:\n",
    "        plt.xlim(xlim[0], xlim[1])\n",
    "    if ylim == 'auto':\n",
    "        plt.ylim(min(origin[1], end_point[1]) -2 , max(origin[1], end_point[1]) + 2)\n",
    "    else:\n",
    "        plt.ylim(ylim[0], ylim[1])\n",
    "    \n",
    "    _ = plt.grid()\n",
    "    _ = plt.show()\n",
    "\n",
    "plot_2D_vector(v1)"
   ]
  },
  {
   "cell_type": "markdown",
   "id": "entertaining-physiology",
   "metadata": {},
   "source": [
    "## Arrays"
   ]
  },
  {
   "cell_type": "code",
   "execution_count": 4,
   "id": "genetic-clinton",
   "metadata": {},
   "outputs": [
    {
     "name": "stdout",
     "output_type": "stream",
     "text": [
      "a 2x2 array: \n",
      "[[1 2]\n",
      " [3 4]]\n"
     ]
    }
   ],
   "source": [
    "# a 2x2 array\n",
    "\n",
    "arr2x2 = np.array([\n",
    "                    [1, 2],\n",
    "                    [3, 4]\n",
    "                ])\n",
    "\n",
    "print(\"a 2x2 array: \")\n",
    "print(arr2x2)"
   ]
  },
  {
   "cell_type": "markdown",
   "id": "german-wallpaper",
   "metadata": {},
   "source": [
    "Any numpy arrays is an object in Python with type of `numpy.ndarray`"
   ]
  },
  {
   "cell_type": "code",
   "execution_count": 5,
   "id": "checked-spray",
   "metadata": {},
   "outputs": [
    {
     "data": {
      "text/plain": [
       "numpy.ndarray"
      ]
     },
     "execution_count": 5,
     "metadata": {},
     "output_type": "execute_result"
    }
   ],
   "source": [
    "type(arr2x2)"
   ]
  },
  {
   "cell_type": "markdown",
   "id": "loose-modification",
   "metadata": {},
   "source": [
    "Any object of type `numup.ndarray` has an attirbute `.shape` which determines the dimension of the array.     \n",
    "When we get `.shape` attribute of an array, a tuple will be returned which shows the dimension of the array."
   ]
  },
  {
   "cell_type": "code",
   "execution_count": 6,
   "id": "genetic-contents",
   "metadata": {},
   "outputs": [
    {
     "data": {
      "text/plain": [
       "(2, 2)"
      ]
     },
     "execution_count": 6,
     "metadata": {},
     "output_type": "execute_result"
    }
   ],
   "source": [
    "# check the shape of a 2x2 array\n",
    "arr2x2.shape"
   ]
  },
  {
   "cell_type": "markdown",
   "id": "intensive-swaziland",
   "metadata": {},
   "source": [
    "# Matrix Multiplication\n",
    "\n",
    "Matrix multiplication is supported by numpy.         \n",
    "Let's assume that $A_{m\\times n}$ and $B_{n \\times k}$ are two matrices (arrays in numpy language). Since, the number of columns of $A$ equals the number of rows in $B$ (both are $n$), we can multiply them by matrix multiplication.       \n",
    "In numpy matrix multiplication is done via `np.matmul()` function.      \n",
    "The result of matrix multiplication for $A$ and $B$ is as follows:\n",
    "$$\n",
    "    C_{m \\times k } = A_{m \\times n}  B_{n \\times k}\n",
    "$$\n",
    "and in numpy syntax:\n",
    "```python\n",
    "C = np.matmul(A, B)\n",
    "```"
   ]
  },
  {
   "cell_type": "code",
   "execution_count": 7,
   "id": "flying-column",
   "metadata": {},
   "outputs": [],
   "source": [
    "# a 2x3 matrix (array)\n",
    "A = np.array([\n",
    "                [1, 0, 2],\n",
    "                [-1, 0, -2]\n",
    "             ])\n",
    "# a 3x1 matrix (array)\n",
    "B = np.array([\n",
    "                [1],\n",
    "                [0],\n",
    "                [-1]\n",
    "])"
   ]
  },
  {
   "cell_type": "code",
   "execution_count": 8,
   "id": "capital-granny",
   "metadata": {},
   "outputs": [
    {
     "name": "stdout",
     "output_type": "stream",
     "text": [
      "Shape of A = (2, 3)\n",
      "Shape of B = (3, 1)\n"
     ]
    }
   ],
   "source": [
    "# check shapes of arrays\n",
    "print(f\"Shape of A = {A.shape}\")\n",
    "print(f\"Shape of B = {B.shape}\")"
   ]
  },
  {
   "cell_type": "code",
   "execution_count": 9,
   "id": "educational-enhancement",
   "metadata": {},
   "outputs": [
    {
     "name": "stdout",
     "output_type": "stream",
     "text": [
      "[[-1]\n",
      " [ 1]]\n"
     ]
    }
   ],
   "source": [
    "# matrix multiplication\n",
    "C = np.matmul(A, B)\n",
    "# print C\n",
    "print(C)"
   ]
  },
  {
   "cell_type": "code",
   "execution_count": 10,
   "id": "plastic-scale",
   "metadata": {},
   "outputs": [
    {
     "data": {
      "text/plain": [
       "(2, 1)"
      ]
     },
     "execution_count": 10,
     "metadata": {},
     "output_type": "execute_result"
    }
   ],
   "source": [
    "# expected shape of C to be 2x1\n",
    "# check the shpae of C\n",
    "C.shape"
   ]
  },
  {
   "cell_type": "markdown",
   "id": "internal-order",
   "metadata": {},
   "source": [
    "There are two kind of multiplication for matrices:\n",
    "1- matrix multiplication (`np.matmul(A,B)`)\n",
    "2- element-wise multiplication (`A*B`)\n",
    "\n",
    "In element-wise multiplication, the two matrices should have same dimension\n"
   ]
  },
  {
   "cell_type": "code",
   "execution_count": 11,
   "id": "dutch-blind",
   "metadata": {},
   "outputs": [
    {
     "ename": "ValueError",
     "evalue": "operands could not be broadcast together with shapes (2,3) (3,1) ",
     "output_type": "error",
     "traceback": [
      "\u001b[1;31m---------------------------------------------------------------------------\u001b[0m",
      "\u001b[1;31mValueError\u001b[0m                                Traceback (most recent call last)",
      "\u001b[1;32m<ipython-input-11-a4372bd3747f>\u001b[0m in \u001b[0;36m<module>\u001b[1;34m\u001b[0m\n\u001b[0;32m      1\u001b[0m \u001b[1;31m# this line should lead to error, since the dimension of A and B are not the same\u001b[0m\u001b[1;33m\u001b[0m\u001b[1;33m\u001b[0m\u001b[1;33m\u001b[0m\u001b[0m\n\u001b[1;32m----> 2\u001b[1;33m \u001b[0mA\u001b[0m\u001b[1;33m*\u001b[0m\u001b[0mB\u001b[0m\u001b[1;33m\u001b[0m\u001b[1;33m\u001b[0m\u001b[0m\n\u001b[0m",
      "\u001b[1;31mValueError\u001b[0m: operands could not be broadcast together with shapes (2,3) (3,1) "
     ]
    }
   ],
   "source": [
    "# this line should lead to error, since the dimension of A and B are not the same\n",
    "A*B"
   ]
  },
  {
   "cell_type": "code",
   "execution_count": null,
   "id": "round-vacuum",
   "metadata": {},
   "outputs": [],
   "source": [
    "A1 = np.array([\n",
    "                [-1, 1],\n",
    "                [1, -1]\n",
    "])\n",
    "B1 = np.array([\n",
    "                [-1, 0],\n",
    "                [0, 1]\n",
    "])"
   ]
  },
  {
   "cell_type": "code",
   "execution_count": 12,
   "id": "authorized-headset",
   "metadata": {},
   "outputs": [
    {
     "ename": "NameError",
     "evalue": "name 'A1' is not defined",
     "output_type": "error",
     "traceback": [
      "\u001b[1;31m---------------------------------------------------------------------------\u001b[0m",
      "\u001b[1;31mNameError\u001b[0m                                 Traceback (most recent call last)",
      "\u001b[1;32m<ipython-input-12-bcfdd71f5e5f>\u001b[0m in \u001b[0;36m<module>\u001b[1;34m\u001b[0m\n\u001b[0;32m      1\u001b[0m \u001b[1;31m# elementwise multiplication\u001b[0m\u001b[1;33m\u001b[0m\u001b[1;33m\u001b[0m\u001b[1;33m\u001b[0m\u001b[0m\n\u001b[1;32m----> 2\u001b[1;33m \u001b[0mA1\u001b[0m\u001b[1;33m*\u001b[0m\u001b[0mB1\u001b[0m\u001b[1;33m\u001b[0m\u001b[1;33m\u001b[0m\u001b[0m\n\u001b[0m",
      "\u001b[1;31mNameError\u001b[0m: name 'A1' is not defined"
     ]
    }
   ],
   "source": [
    "# elementwise multiplication\n",
    "A1*B1"
   ]
  },
  {
   "cell_type": "code",
   "execution_count": 13,
   "id": "hourly-respondent",
   "metadata": {},
   "outputs": [
    {
     "ename": "NameError",
     "evalue": "name 'A1' is not defined",
     "output_type": "error",
     "traceback": [
      "\u001b[1;31m---------------------------------------------------------------------------\u001b[0m",
      "\u001b[1;31mNameError\u001b[0m                                 Traceback (most recent call last)",
      "\u001b[1;32m<ipython-input-13-6bc372cefa6b>\u001b[0m in \u001b[0;36m<module>\u001b[1;34m\u001b[0m\n\u001b[0;32m      1\u001b[0m \u001b[1;31m# matrix multiplication\u001b[0m\u001b[1;33m\u001b[0m\u001b[1;33m\u001b[0m\u001b[1;33m\u001b[0m\u001b[0m\n\u001b[1;32m----> 2\u001b[1;33m \u001b[0mnp\u001b[0m\u001b[1;33m.\u001b[0m\u001b[0mmatmul\u001b[0m\u001b[1;33m(\u001b[0m\u001b[0mA1\u001b[0m\u001b[1;33m,\u001b[0m \u001b[0mB1\u001b[0m\u001b[1;33m)\u001b[0m\u001b[1;33m\u001b[0m\u001b[1;33m\u001b[0m\u001b[0m\n\u001b[0m",
      "\u001b[1;31mNameError\u001b[0m: name 'A1' is not defined"
     ]
    }
   ],
   "source": [
    "# matrix multiplication\n",
    "np.matmul(A1, B1)"
   ]
  },
  {
   "cell_type": "markdown",
   "id": "loving-participation",
   "metadata": {},
   "source": [
    "## Operations (Methods) on Numpy Arrays"
   ]
  },
  {
   "cell_type": "code",
   "execution_count": 14,
   "id": "integrated-gentleman",
   "metadata": {},
   "outputs": [
    {
     "data": {
      "text/plain": [
       "array([0, 1, 1, 1, 0, 0, 0, 0, 0, 0, 0, 0, 0, 0, 1, 1, 0, 0, 1, 1, 1, 1,\n",
       "       0, 1, 0, 1, 1, 0, 1, 0, 0, 0, 0, 0, 1, 1, 1, 0, 0, 1, 0, 0, 0, 0,\n",
       "       0, 0, 1, 0, 1, 0, 1, 1, 1, 1, 0, 0, 0, 0, 1, 0, 1, 0, 0, 0, 0, 0,\n",
       "       0, 1, 0, 0, 1, 0, 1, 1, 1, 0, 0, 0, 0, 0, 0, 0, 1, 0, 0, 0, 1, 1,\n",
       "       0, 1, 1, 0, 1, 0, 1, 1, 0, 0, 1, 1])"
      ]
     },
     "execution_count": 14,
     "metadata": {},
     "output_type": "execute_result"
    }
   ],
   "source": [
    "# we can get sum of all elemnts in numpy array using .sum() method\n",
    "\n",
    "# find 100 random number between 0 and 1\n",
    "\n",
    "random_array = np.random.randint(0,2,100) # a function to generate an array of 100 random integer numbers  between 0 and 1\n",
    "random_array"
   ]
  },
  {
   "cell_type": "code",
   "execution_count": 15,
   "id": "biblical-swimming",
   "metadata": {},
   "outputs": [
    {
     "data": {
      "text/plain": [
       "40"
      ]
     },
     "execution_count": 15,
     "metadata": {},
     "output_type": "execute_result"
    }
   ],
   "source": [
    "# get sum of all elements in random_array\n",
    "random_array.sum()"
   ]
  },
  {
   "cell_type": "code",
   "execution_count": 16,
   "id": "lovely-passion",
   "metadata": {},
   "outputs": [
    {
     "data": {
      "text/plain": [
       "array([0.        , 0.84147098, 0.84147098, 0.84147098, 0.        ,\n",
       "       0.        , 0.        , 0.        , 0.        , 0.        ,\n",
       "       0.        , 0.        , 0.        , 0.        , 0.84147098,\n",
       "       0.84147098, 0.        , 0.        , 0.84147098, 0.84147098,\n",
       "       0.84147098, 0.84147098, 0.        , 0.84147098, 0.        ,\n",
       "       0.84147098, 0.84147098, 0.        , 0.84147098, 0.        ,\n",
       "       0.        , 0.        , 0.        , 0.        , 0.84147098,\n",
       "       0.84147098, 0.84147098, 0.        , 0.        , 0.84147098,\n",
       "       0.        , 0.        , 0.        , 0.        , 0.        ,\n",
       "       0.        , 0.84147098, 0.        , 0.84147098, 0.        ,\n",
       "       0.84147098, 0.84147098, 0.84147098, 0.84147098, 0.        ,\n",
       "       0.        , 0.        , 0.        , 0.84147098, 0.        ,\n",
       "       0.84147098, 0.        , 0.        , 0.        , 0.        ,\n",
       "       0.        , 0.        , 0.84147098, 0.        , 0.        ,\n",
       "       0.84147098, 0.        , 0.84147098, 0.84147098, 0.84147098,\n",
       "       0.        , 0.        , 0.        , 0.        , 0.        ,\n",
       "       0.        , 0.        , 0.84147098, 0.        , 0.        ,\n",
       "       0.        , 0.84147098, 0.84147098, 0.        , 0.84147098,\n",
       "       0.84147098, 0.        , 0.84147098, 0.        , 0.84147098,\n",
       "       0.84147098, 0.        , 0.        , 0.84147098, 0.84147098])"
      ]
     },
     "execution_count": 16,
     "metadata": {},
     "output_type": "execute_result"
    }
   ],
   "source": [
    "# numpy has functions such as sin, cos, exp to numpy arrays\n",
    "\n",
    "# sin of array\n",
    "np.sin(random_array)"
   ]
  },
  {
   "cell_type": "code",
   "execution_count": 17,
   "id": "progressive-tattoo",
   "metadata": {},
   "outputs": [
    {
     "data": {
      "text/plain": [
       "array([1.        , 2.71828183, 2.71828183, 2.71828183, 1.        ,\n",
       "       1.        , 1.        , 1.        , 1.        , 1.        ,\n",
       "       1.        , 1.        , 1.        , 1.        , 2.71828183,\n",
       "       2.71828183, 1.        , 1.        , 2.71828183, 2.71828183,\n",
       "       2.71828183, 2.71828183, 1.        , 2.71828183, 1.        ,\n",
       "       2.71828183, 2.71828183, 1.        , 2.71828183, 1.        ,\n",
       "       1.        , 1.        , 1.        , 1.        , 2.71828183,\n",
       "       2.71828183, 2.71828183, 1.        , 1.        , 2.71828183,\n",
       "       1.        , 1.        , 1.        , 1.        , 1.        ,\n",
       "       1.        , 2.71828183, 1.        , 2.71828183, 1.        ,\n",
       "       2.71828183, 2.71828183, 2.71828183, 2.71828183, 1.        ,\n",
       "       1.        , 1.        , 1.        , 2.71828183, 1.        ,\n",
       "       2.71828183, 1.        , 1.        , 1.        , 1.        ,\n",
       "       1.        , 1.        , 2.71828183, 1.        , 1.        ,\n",
       "       2.71828183, 1.        , 2.71828183, 2.71828183, 2.71828183,\n",
       "       1.        , 1.        , 1.        , 1.        , 1.        ,\n",
       "       1.        , 1.        , 2.71828183, 1.        , 1.        ,\n",
       "       1.        , 2.71828183, 2.71828183, 1.        , 2.71828183,\n",
       "       2.71828183, 1.        , 2.71828183, 1.        , 2.71828183,\n",
       "       2.71828183, 1.        , 1.        , 2.71828183, 2.71828183])"
      ]
     },
     "execution_count": 17,
     "metadata": {},
     "output_type": "execute_result"
    }
   ],
   "source": [
    "# exp of array\n",
    "np.exp(random_array)"
   ]
  }
 ],
 "metadata": {
  "kernelspec": {
   "display_name": "Python 3",
   "language": "python",
   "name": "python3"
  },
  "language_info": {
   "codemirror_mode": {
    "name": "ipython",
    "version": 3
   },
   "file_extension": ".py",
   "mimetype": "text/x-python",
   "name": "python",
   "nbconvert_exporter": "python",
   "pygments_lexer": "ipython3",
   "version": "3.8.8"
  }
 },
 "nbformat": 4,
 "nbformat_minor": 5
}
