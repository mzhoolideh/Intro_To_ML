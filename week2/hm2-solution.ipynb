{
 "cells": [
  {
   "cell_type": "markdown",
   "id": "under-communication",
   "metadata": {},
   "source": [
    "# Logistic Regression\n",
    "\n",
    "<h2>Table of Contents</h2>\n",
    "<ol>\n",
    "    <li>\n",
    "        <p>\n",
    "            <a href=\"#1-lr\">Logistic Regression</a>\n",
    "            <ol>\n",
    "                <li><a href=\"#1-1\">Data Visualization</a></li>\n",
    "                <li><a href=\"#1-2\">Implementation</a></li>\n",
    "            </ol>\n",
    "        </p>\n",
    "    </li>\n",
    "    \n",
    "</ol>"
   ]
  },
  {
   "cell_type": "code",
   "execution_count": 1,
   "id": "coastal-advertising",
   "metadata": {},
   "outputs": [],
   "source": [
    "import numpy as np\n",
    "import matplotlib.pyplot as plt\n",
    "import pandas as pd"
   ]
  },
  {
   "cell_type": "markdown",
   "id": "located-channel",
   "metadata": {},
   "source": [
    "### Logistic Regression <a id='1-lr'></a>\n",
    "<br/>\n",
    "<div lang=\"fa-IR\" dir=\"rtl\" style=\"font-family:Times; font-size:1em;\">\n",
    "    <div dir=\"rtl\">\n",
    "    در این بخش از تمرین شما یک مدل Logistic Regression خواهید ساخت تا پیشبینی کند که آیا یک دانش‌آموز در یک دانشگاه پذیرفته خواهد شد یا نه.\n",
    "    </div>\n",
    "    <br/>\n",
    "    <div dir=\"rtl\">\n",
    "        فرض کنید که شما رئیس یک دانشکده هستید و می خواهید احتمال پذیرش هر داوطلب را بر اساس نمرات آن‌ها در 2 آزمون مشخص کنید.\n",
    "    </div>\n",
    "    <br/>\n",
    "    <div dir=\"rtl\">\n",
    "        به شما یک مجموعه داده‌های تاریخی داده شده است که در واقع همان training set شماست. با استفاده از این داده‌های تاریخی می‌خواهید یک مدل Logistic Regression بسازید که بتوانید احتمال پذیرش دانش‌آموزان را پیشبینی کنید.\n",
    "    </div>\n",
    "</div>\n",
    "\n",
    "### Data Visualization <a id=\"1-1\"></a>\n",
    "<br/>\n",
    "\n",
    "<div lang=\"fa-IR\" dir=\"rtl\" style=\"font-family:Times; font-size:1em;\">\n",
    "    <div dir=\"rtl\">\n",
    "        قبل از شروع فرآیند مدل‌سازی همواره باید داده‌ها را بررسی کنیم و ویژگی‌های آن را بشناسیم. این کار در اصطلاحاً <b>تحلیل داده‌ی اکتشافی</b> می‌گویند. در تحلیل داده‌ی اکتشافی مصورسازی داده‌ها یکی از بهترین و مرسوم‌ترین ابزارها برای بررسی داده و کشف الگوهاست.\n",
    "    (تحلیل داده‌ی اکتشافی ترجمه‌ی Exploratory Data Analysis (EDA) است)</div>\n",
    "    <br/>\n",
    "    <div dir=\"rtl\">\n",
    "        در این بخش داده‌ها را خوانده و ترسیم می‌کنیم. در داده‌ها ستون اول نمره‌ی داوطلب در آزمون اول، ستون دوم نمره‌ی داوطلب در آزمون دوم و ستون سوم نشان‌دهنده‌ی پذیرفته شدن یا نشدن داوطلب در دانشگاه است.\n",
    "        به اول این داده‌ها یک ستون جدید اضافه می‌کنیم که مقدار آن برای تمام سطرها یکسان و برابر با 1 است.\n",
    "    </div>\n",
    "    <br/>\n",
    "</div>"
   ]
  },
  {
   "cell_type": "code",
   "execution_count": 2,
   "id": "disciplinary-jimmy",
   "metadata": {},
   "outputs": [
    {
     "name": "stdout",
     "output_type": "stream",
     "text": [
      "shape of data = (100, 4)\n"
     ]
    }
   ],
   "source": [
    "# Run the followig code to upload data #\n",
    "data = np.loadtxt(\"./ex2data1.txt\", delimiter=',')\n",
    "\n",
    "# This command shows the shape of the data\n",
    "data.shape\n",
    "\n",
    "# add a column of 1 as the first columns of dat\n",
    "ones = np.ones(shape=(data.shape[0], data.shape[1]+1))\n",
    "ones[:,1:] = data\n",
    "data = ones\n",
    "print(f\"shape of data = {data.shape}\")\n",
    "\n",
    "# separte features from labels for training data\n",
    "x_train = data[:,:3]\n",
    "y_train = data[:,:4]"
   ]
  },
  {
   "cell_type": "code",
   "execution_count": 3,
   "id": "listed-lighter",
   "metadata": {},
   "outputs": [
    {
     "data": {
      "text/plain": [
       "array([[ 1.        , 34.62365962, 78.02469282,  0.        ],\n",
       "       [ 1.        , 30.28671077, 43.89499752,  0.        ],\n",
       "       [ 1.        , 35.84740877, 72.90219803,  0.        ],\n",
       "       [ 1.        , 60.18259939, 86.3085521 ,  1.        ],\n",
       "       [ 1.        , 79.03273605, 75.34437644,  1.        ]])"
      ]
     },
     "execution_count": 3,
     "metadata": {},
     "output_type": "execute_result"
    }
   ],
   "source": [
    "# Let's see the first 5 records in data\n",
    "data[:5]"
   ]
  },
  {
   "cell_type": "code",
   "execution_count": 4,
   "id": "psychological-yesterday",
   "metadata": {},
   "outputs": [
    {
     "data": {
      "text/plain": [
       "<Figure size 648x432 with 0 Axes>"
      ]
     },
     "metadata": {},
     "output_type": "display_data"
    },
    {
     "data": {
      "image/png": "[encoded data removed]",
      "text/plain": [
       "<Figure size 504x504 with 1 Axes>"
      ]
     },
     "metadata": {
      "needs_background": "light"
     },
     "output_type": "display_data"
    }
   ],
   "source": [
    "# Plot\n",
    "plt.figure(figsize=(9,6))\n",
    "\n",
    "########################\n",
    "#  Start of your code  #\n",
    "\n",
    "# Use matplotlib scatter plot function to plot profit versus population\n",
    "\n",
    "# extract x axis values from data\n",
    "x = data[:,1]\n",
    "# extract y axis values from data\n",
    "y = data[:,2]\n",
    "# extract labels from data: (0, 1) depending on whether a student is accepted or non-accepted\n",
    "group = data[:,3]\n",
    "\n",
    "cdict = {0: 'magenta', 1: 'black'}\n",
    "labels = {0: 'non-accepted', 1:'accepted'}\n",
    "markers = {0: '.', 1: '+'}\n",
    "\n",
    "fig, ax = plt.subplots(figsize=(7,7))\n",
    "for g in np.unique(group):\n",
    "    ix = np.where(group == g)\n",
    "    ax.scatter(x[ix], y[ix], c = cdict[g], label = labels[g], marker=markers[g], s = 100)\n",
    "ax.legend(fontsize=13)\n",
    "\n",
    "#   end  of your code  #\n",
    "########################\n",
    "\n",
    "plt.xticks(np.arange(30,101,step=5))\n",
    "plt.yticks(np.arange(30,101,step=5))\n",
    "plt.xlabel(\"Exam 1 score\" , fontsize=18, fontfamily=\"Calibri\" )\n",
    "plt.ylabel(\"Exam 2 score\", fontsize=18, fontfamily=\"Calibri\" )\n",
    "plt.title(\"Scatter Plot of training data\", fontsize=18, fontfamily=\"Calibri\" )\n",
    "plt.show()"
   ]
  },
  {
   "cell_type": "markdown",
   "id": "wicked-century",
   "metadata": {},
   "source": [
    "###### Expected plot\n",
    "<img width=400 src=\"./data1.png\">"
   ]
  },
  {
   "cell_type": "markdown",
   "id": "canadian-inflation",
   "metadata": {},
   "source": [
    "### Implementation <a id=\"1-2\"></a>\n",
    "#### Sigmoid function\n",
    "\n",
    "<br/>\n",
    "\n",
    "<div lang=\"fa-IR\" dir=\"rtl\" style=\"font-family:Times; font-size:1em;\">\n",
    "    <div dir=\"rtl\">\n",
    "        همانطور که در کلاس صحبت کردیم در یک مدل Logistic Regression فرضیه‌ی ما به شکل زیر است:\n",
    "    </div>\n",
    "    <br/>\n",
    "</div>\n",
    "$$\n",
    "h_\\theta(x) = g~(\\theta^Tx)\n",
    "$$\n",
    "<div lang=\"fa-IR\" dir=\"rtl\" style=\"font-family:Times; font-size:1em;\">\n",
    "    <div dir=\"rtl\">\n",
    "        که در آن g تابع sigmoid است و به شکل زیر تعریف می‌شود:\n",
    "    </div>\n",
    "    <br/>\n",
    "</div>\n",
    "$$\n",
    "g~(z) = \\frac{1}{1+e^{-z}}\n",
    "$$\n",
    "<div lang=\"fa-IR\" dir=\"rtl\" style=\"font-family:Times; font-size:1em;\">\n",
    "    <div dir=\"rtl\">\n",
    "        در این قسمت شما تابع sigmoid را باید پیاده‌سازی کنید\n",
    "    </div>\n",
    "    <br/>\n",
    "</div>"
   ]
  },
  {
   "cell_type": "code",
   "execution_count": 5,
   "id": "horizontal-milwaukee",
   "metadata": {},
   "outputs": [],
   "source": [
    "# define sigmoid function\n",
    "def sigmoid(z):\n",
    "    \"\"\"\n",
    "    sigmoid function\n",
    "    \n",
    "    Args:\n",
    "        z (np.array): z is numpy array of floats or ints\n",
    "    \n",
    "    Returns:\n",
    "        g_of_z (np.array): the function returns g_of_z which is an array with the same shape as z \n",
    "                            and the value in each element of the g_of_z is equalt to applying the \n",
    "                            sigmoid function to corresponding element in z\n",
    "    \"\"\"\n",
    "    assert(isinstance(z, np.ndarray))\n",
    "    #######################\n",
    "    # start your code here\n",
    "    g_of_z = 1/(1+np.exp(-z))\n",
    "    # end your code here\n",
    "    ######################\n",
    "    return g_of_z"
   ]
  },
  {
   "cell_type": "code",
   "execution_count": 6,
   "id": "public-heath",
   "metadata": {},
   "outputs": [
    {
     "data": {
      "text/plain": [
       "array([4.53978687e-05, 2.68941421e-01, 3.77540669e-01, 5.00000000e-01,\n",
       "       6.22459331e-01, 7.31058579e-01, 9.99954602e-01])"
      ]
     },
     "execution_count": 6,
     "metadata": {},
     "output_type": "execute_result"
    }
   ],
   "source": [
    "# rund the follwing code to see if your implementation is currect\n",
    "sigmoid(np.array([-10, -1, -0.5, 0, 0.5, 1, 10]))"
   ]
  },
  {
   "cell_type": "markdown",
   "id": "involved-immunology",
   "metadata": {},
   "source": [
    "###### Expected output\n",
    "array([4.53978687e-05, 2.68941421e-01, 3.77540669e-01, 5.00000000e-01,\n",
    "       6.22459331e-01, 7.31058579e-01, 9.99954602e-01])"
   ]
  },
  {
   "cell_type": "markdown",
   "id": "proud-founder",
   "metadata": {},
   "source": [
    "#### Cost function and gradient\n",
    "\n",
    "<div lang=\"fa-IR\" dir=\"rtl\" style=\"font-family:Times; font-size:1em;\">\n",
    "    در این مرحله تابع هزینه cost function و گرادیان gradeint پیاده سازی خواهند شد. تابع هزینه از فرمول زیر به دست می‌آید:\n",
    "</div>\n",
    "$$\n",
    " J(\\theta) = \\frac{1}{m} \\sum_{i=1}^m [-y^{(i)}~\\log(h_\\theta(x^{(i)})) ~-~ (1-y^{(i)})~\\log(1-h_\\theta(x^{(i)}))]\n",
    "$$\n",
    "<div lang=\"fa-IR\" dir=\"rtl\" style=\"font-family:Times; font-size:1em;\">\n",
    "  همچین برای محاسبه‌ی گرادیان‌ها از رابطه‌ی زیر استفاده می‌شود:\n",
    "</div>\n",
    "$$\n",
    "\\frac{\\partial J(\\theta)}{\\partial \\theta_j} = \\frac{1}{m} \\sum_{i=1}^{m} (h_\\theta (x^{(i)}) - y^{(i)}) x_j^{(i)}\n",
    "$$\n",
    "<div lang=\"fa-IR\" dir=\"rtl\" style=\"font-family:Times; font-size:1em;\">\n",
    "  در محاسباتی شبیه تمام بالا، بررسی ابعاد ماتریس‌ها هنگام ضرب بسیار مهم است و اصلی ترین منبع خطا در این محاسبات عدم تطابق بعدهای ماتریس‌هاست. توصیه می‌شود قبل از نوشتن کد، بر روی کاغذ ابعاد ماتریس‌ها را بررسی کنید و نحوه‌ی ضرب آن‌ها را مشخص کنید.\n",
    "</div>"
   ]
  },
  {
   "cell_type": "code",
   "execution_count": 7,
   "id": "sound-montana",
   "metadata": {},
   "outputs": [
    {
     "data": {
      "text/plain": [
       "100"
      ]
     },
     "execution_count": 7,
     "metadata": {},
     "output_type": "execute_result"
    }
   ],
   "source": [
    "data[:, :3].shape[0]"
   ]
  },
  {
   "cell_type": "code",
   "execution_count": 9,
   "id": "rapid-morning",
   "metadata": {},
   "outputs": [],
   "source": [
    "def cost(theta, x, y):\n",
    "    \n",
    "    # number of training samples\n",
    "    m = x.shape[0]\n",
    "    # initialize a varaible to store cost value\n",
    "    J = 0\n",
    "    # initialize a numpy array to store gradient of theta\n",
    "    grads = np.zeros(shape=theta.shape)\n",
    "    \n",
    "    # compute cost function\n",
    "    h_array = sigmoid(np.matmul(theta.T, x.T)) # shape: 1xm\n",
    "    assert(h_array.shape == (1,m))\n",
    "    J = (1.0/m)*(- np.matmul(y.T, np.log(h_array).T) - np.matmul((1-y).T, np.log(1-h_array).T ))[0][0]\n",
    "\n",
    "    grads = (1.0/m)*np.matmul(h_array - y.T, x).T\n",
    "    \n",
    "    return J, grads"
   ]
  },
  {
   "cell_type": "code",
   "execution_count": 10,
   "id": "accomplished-tension",
   "metadata": {},
   "outputs": [
    {
     "name": "stdout",
     "output_type": "stream",
     "text": [
      "cost = 0.6931471805599452\n",
      "gradients  = [[ -0.1       ]\n",
      " [-12.00921659]\n",
      " [-11.26284221]]\n"
     ]
    }
   ],
   "source": [
    "theta = np.zeros((3,1))\n",
    "J, grads = cost(theta, data[:,:3], data[:,3:4])\n",
    "print(f\"cost = {J}\")\n",
    "print(f\"gradients  = {grads}\")"
   ]
  },
  {
   "cell_type": "markdown",
   "id": "expected-leeds",
   "metadata": {},
   "source": [
    "###### Expected output\n",
    "cost = 0.6931471805599452            \n",
    "gradients = [[ -0.1000]       \n",
    "            [-12.0092]          \n",
    "            [-11.2628 ]]"
   ]
  },
  {
   "cell_type": "markdown",
   "id": "caroline-spouse",
   "metadata": {},
   "source": [
    "#### Train\n",
    "<div lang=\"fa-IR\" dir=\"rtl\" style=\"font-family:Times; font-size:1em;\">\n",
    "   در این بخش تابعی نوشته می‎شود که هدف آن برازش پارامترهای مدل Logistic Regression با استفاده از داده‌های train است.\n",
    "</div>"
   ]
  },
  {
   "cell_type": "code",
   "execution_count": 11,
   "id": "suspended-shareware",
   "metadata": {},
   "outputs": [],
   "source": [
    "def train(theta, x, y, learning_rate=0.001, iteration=400):\n",
    "    for i in range(iteration):\n",
    "        J, grads = cost(theta, x, y)\n",
    "        theta -= learning_rate*grads\n",
    "        \n",
    "        if i%20 == 0:\n",
    "            print(f\"Cost = {J}\")\n",
    "        \n",
    "    return theta, J"
   ]
  },
  {
   "cell_type": "code",
   "execution_count": 12,
   "id": "metallic-metabolism",
   "metadata": {},
   "outputs": [
    {
     "name": "stdout",
     "output_type": "stream",
     "text": [
      "Cost = 3.6465647833222783\n",
      "Cost = 2.384311444628078\n",
      "Cost = 1.3182744154854964\n",
      "Cost = 0.6583194425347584\n",
      "Cost = 0.5533340231045477\n",
      "Cost = 0.5490084241379319\n",
      "cost = 0.5490084241379319\n",
      "theta  = [[-1.25661688]\n",
      " [ 0.01795097]\n",
      " [ 0.0115167 ]]\n"
     ]
    }
   ],
   "source": [
    "np.random.seed(103)\n",
    "theta = np.random.randn(3,1)\n",
    "theta, J = train(theta, data[:,:3], data[:,3:4], learning_rate=0.001, iteration=101)\n",
    "print(f\"cost = {J}\")\n",
    "print(f\"theta  = {theta}\")"
   ]
  },
  {
   "cell_type": "markdown",
   "id": "passive-biology",
   "metadata": {},
   "source": [
    "#### Build Logistic Regression Model and Train the Model"
   ]
  },
  {
   "cell_type": "markdown",
   "id": "incorporated-vaccine",
   "metadata": {},
   "source": [
    "#### find threshold\n",
    "<br/>\n",
    "\n",
    "<div lang=\"fa-IR\" dir=\"rtl\" style=\"font-family:Times; font-size:1em;\">\n",
    "   در این بخش هدف دسته بندی داده‌ها با استفاده از مدل Logistic Regression است. برای دسته‌بندی علاوه بر داشتن پارامترهای مدل نیاز است که یک threshold انتخاب شود. منظور از threshold عددی است که اگر مقدار پیشبینی از آن بزرگتر باشد برچسب قبولی به داوطلب زده می‌شود و اگر پایین تر باشد برچسب قبول نشدن.\n",
    "</div>\n",
    "<br/>\n",
    "<div lang=\"fa-IR\" dir=\"rtl\" style=\"font-family:Times; font-size:1em;\">\n",
    "    برای یافتن بهترین پیشبینی باید threshold ای را پیدا کنیم که به ازای آن دقت مدل در پیشبینی قبولی داوطلب ها بیشینه باشد.\n",
    "</div>"
   ]
  },
  {
   "cell_type": "code",
   "execution_count": 13,
   "id": "modified-dubai",
   "metadata": {},
   "outputs": [],
   "source": [
    "def predict(theta, x, thresh):\n",
    "    predictions = sigmoid(np.matmul(theta.T, x.T))\n",
    "    y_pred = (predictions >= thresh).T\n",
    "    return y_pred\n",
    "\n",
    "def evaluate(theta, x, y, thresh):\n",
    "    y_pred = predict(theta, x, thresh)\n",
    "    return (y_pred == y).mean()\n",
    "\n",
    "def find_best_threshold(theta, x, y):\n",
    "    accuracy = 0\n",
    "    thresh = 0.5\n",
    "    for thresh_candidate in np.linspace(0.01,1,1000):\n",
    "        new_accuracy = evaluate(theta, x, y, thresh_candidate)\n",
    "        if new_accuracy > accuracy:\n",
    "            thresh = thresh_candidate\n",
    "            accuracy = new_accuracy\n",
    "        \n",
    "        \n",
    "    return thresh, theta"
   ]
  },
  {
   "cell_type": "code",
   "execution_count": 32,
   "id": "brazilian-hormone",
   "metadata": {},
   "outputs": [
    {
     "name": "stdout",
     "output_type": "stream",
     "text": [
      "Cost = 3.6465647833222783\n",
      "Cost = 2.384311444628078\n",
      "Cost = 1.3182744154854964\n",
      "Cost = 0.6583194425347584\n",
      "Cost = 0.5533340231045477\n",
      "Cost = 0.5490084241379319\n",
      "  ================== Logistic Regression Model ======================\n",
      "Model = -1.2566168773662427 + 0.01795097358556288*X_1 + 0.011516697297689516*X_2 \n",
      "threshold = 0.6105405405405406\n",
      "if sigmoid( -1.2566168773662427 + 0.01795097358556288*X_1 + 0.011516697297689516*X_2 ) >= 0.6105405405405406    =====> accept\n",
      "if sigmoid( -1.2566168773662427 + 0.01795097358556288*X_1 + 0.011516697297689516*X_2 ) < 0.6105405405405406    =====> non-accept\n"
     ]
    }
   ],
   "source": [
    "# seed for random number generation\n",
    "np.random.seed(103)\n",
    "# training features and labels\n",
    "x = data[:,:3] # features\n",
    "y = data[:,3:4] # labels\n",
    "# get number of samples\n",
    "m = x.shape[0]\n",
    "# get dimension of features (plus bias)\n",
    "dim = x.shape[1]\n",
    "# initialize theta with random normal \n",
    "theta = np.random.randn(dim, 1)\n",
    "# train the model (fit theta prameters)\n",
    "theta, J = train(theta, x, y, learning_rate=0.001, iteration=101)\n",
    "# find best threshold\n",
    "thresh, theta = find_best_threshold(theta, x, y)\n",
    "# the model\n",
    "print(\"  ================== Logistic Regression Model ======================\")\n",
    "print(f\"Model = {theta[0,0]} + {theta[1,0]}*X_1 + {theta[2,0]}*X_2 \")\n",
    "print(f\"threshold = {thresh}\")\n",
    "print(f\"if sigmoid( {theta[0,0]} + {theta[1,0]}*X_1 + {theta[2,0]}*X_2 ) >= {thresh}    =====> accept\")\n",
    "print(f\"if sigmoid( {theta[0,0]} + {theta[1,0]}*X_1 + {theta[2,0]}*X_2 ) < {thresh}    =====> non-accept\")"
   ]
  },
  {
   "cell_type": "code",
   "execution_count": 36,
   "id": "satellite-trinity",
   "metadata": {},
   "outputs": [
    {
     "data": {
      "text/plain": [
       "array([0.61063923])"
      ]
     },
     "execution_count": 36,
     "metadata": {},
     "output_type": "execute_result"
    }
   ],
   "source": [
    "sigmoid(np.array([0.45]))"
   ]
  },
  {
   "cell_type": "code",
   "execution_count": 37,
   "id": "satisfied-extraction",
   "metadata": {},
   "outputs": [
    {
     "data": {
      "text/plain": [
       "Text(0.5, 1.0, 'Scatter Plot of training data')"
      ]
     },
     "execution_count": 37,
     "metadata": {},
     "output_type": "execute_result"
    },
    {
     "data": {
      "image/png": "[encoded data removed]",
      "text/plain": [
       "<Figure size 720x720 with 1 Axes>"
      ]
     },
     "metadata": {
      "needs_background": "light"
     },
     "output_type": "display_data"
    }
   ],
   "source": [
    "# extract labels from data: (0, 1) depending on whether a student is accepted or non-accepted\n",
    "group = data[:,3]\n",
    "\n",
    "cdict = {0: 'magenta', 1: 'black'}\n",
    "labels = {0: 'non-accepted', 1:'accepted'}\n",
    "markers = {0: '.', 1: '+'}\n",
    "\n",
    "fig, ax = plt.subplots(figsize=(10,10))\n",
    "for g in np.unique(group):\n",
    "    ix = np.where(group == g)\n",
    "    ax.scatter(x[:,1][ix], x[:,2][ix], c = cdict[g], label = labels[g], marker=markers[g], s = 100)\n",
    "ax.legend(fontsize=20)\n",
    "\n",
    "\n",
    "#### Plot decision boundary\n",
    "x_values = np.linspace(0,100,101)\n",
    "# because sigmoid(0.45) = 0.62 and threshold is 0.62 ==> sigmoid^-1(thresh) = 0.45\n",
    "y_values = (1/(theta[2,0]))*(0.45 - theta[0,0]*1 - theta[1,0]*x_values)\n",
    "\n",
    "\n",
    "plt.xticks(np.arange(30,101,step=5))\n",
    "plt.yticks(np.arange(30,101,step=5))\n",
    "plt.ylim((30,100))\n",
    "plt.xlim((30,100))\n",
    "plt.xlabel(\"Exam 1 score\" , fontsize=18, fontfamily=\"Calibri\" )\n",
    "plt.ylabel(\"Exam 2 score\" , fontsize=18, fontfamily=\"Calibri\" )\n",
    "plt.plot(x_values, y_values, label=\"decison boundary\", c='red')\n",
    "plt.legend()\n",
    "plt.title(\"Scatter Plot of training data\", fontsize=18, fontfamily=\"Calibri\" )"
   ]
  }
 ],
 "metadata": {
  "kernelspec": {
   "display_name": "Python 3",
   "language": "python",
   "name": "python3"
  },
  "language_info": {
   "codemirror_mode": {
    "name": "ipython",
    "version": 3
   },
   "file_extension": ".py",
   "mimetype": "text/x-python",
   "name": "python",
   "nbconvert_exporter": "python",
   "pygments_lexer": "ipython3",
   "version": "3.8.8"
  }
 },
 "nbformat": 4,
 "nbformat_minor": 5
}
