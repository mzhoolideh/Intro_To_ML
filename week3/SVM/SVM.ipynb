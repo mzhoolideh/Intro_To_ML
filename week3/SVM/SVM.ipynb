{
 "cells": [
  {
   "cell_type": "markdown",
   "metadata": {},
   "source": [
    "\n",
    "# Support Vector Machines"
   ]
  },
  {
   "cell_type": "markdown",
   "metadata": {},
   "source": [
    "### Loading of the data"
   ]
  },
  {
   "cell_type": "code",
   "execution_count": null,
   "metadata": {},
   "outputs": [],
   "source": [
    "import numpy as np\n",
    "import pandas as pd\n",
    "import matplotlib.pyplot as plt\n",
    "from scipy.io import loadmat"
   ]
  },
  {
   "cell_type": "code",
   "execution_count": null,
   "metadata": {},
   "outputs": [],
   "source": [
    "# Run the followig code to upload data #\n",
    "\n",
    "mat = loadmat(\"ex6data1.mat\")\n",
    "X = mat[\"X\"]\n",
    "y = mat[\"y\"]"
   ]
  },
  {
   "cell_type": "markdown",
   "metadata": {},
   "source": [
    "## Plotting the data\n",
    "### Run the following cell to visualize the data points\n"
   ]
  },
  {
   "cell_type": "code",
   "execution_count": null,
   "metadata": {},
   "outputs": [],
   "source": [
    "########################\n",
    "#  Start of your code  #\n",
    "\n",
    "# Find shape of X and set m and n based on it\n",
    "m = \n",
    "n = \n",
    "\n",
    "# Set y==1 to a variable called pos and y==0 to neg\n",
    "pos = \n",
    "neg = \n",
    "\n",
    "#   end  of your code  #\n",
    "########################\n",
    "\n",
    "\n",
    "\n",
    "plt.scatter(X[pos[:,0],0],X[pos[:,0],1],c=\"r\",marker=\"+\",s=50)\n",
    "plt.scatter(X[neg[:,0],0],X[neg[:,0],1],c=\"y\",marker=\"o\",s=50)"
   ]
  },
  {
   "cell_type": "markdown",
   "metadata": {},
   "source": [
    "## Use Sklearn package practically\n",
    "### Using support vector machines"
   ]
  },
  {
   "cell_type": "code",
   "execution_count": null,
   "metadata": {},
   "outputs": [],
   "source": [
    "from sklearn.svm import SVC\n",
    "\n",
    "# ########################\n",
    "#  Start of your code  #\n",
    "\n",
    "# Use a linear kernel in SVC and set it to classifier\n",
    "classifier = \n",
    "\n",
    "# use classifier.fit, X and y to train the model\n",
    "classifier.fit()\n",
    "\n",
    "#   end  of your code  #\n",
    "########################\n"
   ]
  },
  {
   "cell_type": "markdown",
   "metadata": {},
   "source": [
    "### Visualising the Training set results"
   ]
  },
  {
   "cell_type": "code",
   "execution_count": null,
   "metadata": {},
   "outputs": [],
   "source": [
    "plt.figure(figsize=(8,6))\n",
    "plt.scatter(X[pos[:,0],0],X[pos[:,0],1],c=\"r\",marker=\"+\",s=50)\n",
    "plt.scatter(X[neg[:,0],0],X[neg[:,0],1],c=\"y\",marker=\"o\",s=50)\n",
    "\n",
    "# plotting the decision boundary\n",
    "X_1,X_2 = np.meshgrid(np.linspace(X[:,0].min(),X[:,0].max(),num=100),np.linspace(X[:,1].min(),X[:,1].max(),num=100))\n",
    "plt.contour(X_1,X_2,classifier.predict(np.array([X_1.ravel(),X_2.ravel()]).T).reshape(X_1.shape),1,colors=\"b\")\n",
    "plt.xlim(0,4.5)\n",
    "plt.ylim(1.5,5)"
   ]
  },
  {
   "cell_type": "code",
   "execution_count": null,
   "metadata": {},
   "outputs": [],
   "source": [
    "# Test C = 100\n",
    "\n",
    "\n",
    "# ########################\n",
    "#  Start of your code  #\n",
    "\n",
    "# Use a linear kernel and C = 100 in SVC and set it to classifier2\n",
    "classifier2 = \n",
    "\n",
    "# use classifier2.fit, X and y to train the model\n",
    "classifier2.fit()\n",
    "\n",
    "#   end  of your code  #\n",
    "########################\n"
   ]
  },
  {
   "cell_type": "code",
   "execution_count": null,
   "metadata": {},
   "outputs": [],
   "source": [
    "plt.figure(figsize=(8,6))\n",
    "plt.scatter(X[pos[:,0],0],X[pos[:,0],1],c=\"r\",marker=\"+\",s=50)\n",
    "plt.scatter(X[neg[:,0],0],X[neg[:,0],1],c=\"y\",marker=\"o\",s=50)\n",
    "\n",
    "# plotting the decision boundary\n",
    "X_3,X_4 = np.meshgrid(np.linspace(X[:,0].min(),X[:,1].max(),num=100),np.linspace(X[:,1].min(),X[:,1].max(),num=100))\n",
    "plt.contour(X_3,X_4,classifier2.predict(np.array([X_3.ravel(),X_4.ravel()]).T).reshape(X_3.shape),1,colors=\"b\")\n",
    "plt.xlim(0,4.5)\n",
    "plt.ylim(1.5,5)"
   ]
  },
  {
   "cell_type": "markdown",
   "metadata": {},
   "source": [
    "### SVM with gaussian kernels"
   ]
  },
  {
   "cell_type": "code",
   "execution_count": null,
   "metadata": {},
   "outputs": [],
   "source": [
    "# Run the followig code to upload data #\n",
    "\n",
    "mat2 = loadmat(\"ex6data2.mat\")\n",
    "X2 = mat2[\"X\"]\n",
    "y2 = mat2[\"y\"]"
   ]
  },
  {
   "cell_type": "markdown",
   "metadata": {},
   "source": [
    "### Plotting of data"
   ]
  },
  {
   "cell_type": "code",
   "execution_count": null,
   "metadata": {},
   "outputs": [],
   "source": [
    "m2,n2 = X2.shape[0],X2.shape[1]\n",
    "pos2,neg2= (y2==1).reshape(m2,1), (y2==0).reshape(m2,1)\n",
    "plt.figure(figsize=(8,6))\n",
    "plt.scatter(X2[pos2[:,0],0],X2[pos2[:,0],1],c=\"r\",marker=\"+\")\n",
    "plt.scatter(X2[neg2[:,0],0],X2[neg2[:,0],1],c=\"y\",marker=\"o\")\n",
    "plt.xlim(0,1)\n",
    "plt.ylim(0.4,1)"
   ]
  },
  {
   "cell_type": "code",
   "execution_count": null,
   "metadata": {},
   "outputs": [],
   "source": [
    "# ########################\n",
    "#  Start of your code  #\n",
    "\n",
    "# Use a rbf kernel and gamma = 30 in SVC and set it to classifier3\n",
    "classifier3 = \n",
    "\n",
    "# use classifier3.fit, X2 and y2 to train the model\n",
    "classifier3.fit()\n",
    "\n",
    "#   end  of your code  #\n",
    "########################\n",
    "\n"
   ]
  },
  {
   "cell_type": "markdown",
   "metadata": {},
   "source": [
    "### Visualising the decision boundary"
   ]
  },
  {
   "cell_type": "code",
   "execution_count": null,
   "metadata": {},
   "outputs": [],
   "source": [
    "plt.figure(figsize=(8,6))\n",
    "plt.scatter(X2[pos2[:,0],0],X2[pos2[:,0],1],c=\"r\",marker=\"+\")\n",
    "plt.scatter(X2[neg2[:,0],0],X2[neg2[:,0],1],c=\"y\",marker=\"o\")\n",
    "\n",
    "\n",
    "# plotting the decision boundary\n",
    "X_5,X_6 = np.meshgrid(np.linspace(X2[:,0].min(),X2[:,1].max(),num=100),np.linspace(X2[:,1].min(),X2[:,1].max(),num=100))\n",
    "plt.contour(X_5,X_6,classifier3.predict(np.array([X_5.ravel(),X_6.ravel()]).T).reshape(X_5.shape),1,colors=\"b\")\n",
    "plt.xlim(0,1)\n",
    "plt.ylim(0.4,1)"
   ]
  },
  {
   "cell_type": "markdown",
   "metadata": {},
   "source": [
    "### Dataset 3"
   ]
  },
  {
   "cell_type": "code",
   "execution_count": null,
   "metadata": {},
   "outputs": [],
   "source": [
    "# Run the followig code to upload data #\n",
    "\n",
    "mat3 = loadmat(\"ex6data3.mat\")\n",
    "X3 = mat3[\"X\"]\n",
    "y3 = mat3[\"y\"]\n",
    "Xval = mat3[\"Xval\"]\n",
    "yval = mat3[\"yval\"]"
   ]
  },
  {
   "cell_type": "code",
   "execution_count": null,
   "metadata": {},
   "outputs": [],
   "source": [
    "########################\n",
    "#  Start of your code  #\n",
    "\n",
    "# Find shape of X and set m and n based on it\n",
    "m = \n",
    "n = \n",
    "\n",
    "# Set y3==1 to a variable called pos and y3==0 to neg\n",
    "pos3 = \n",
    "neg3 = \n",
    "\n",
    "#   end  of your code  #\n",
    "########################\n",
    "\n",
    "plt.figure(figsize=(8,6))\n",
    "plt.scatter(X3[pos3[:,0],0],X3[pos3[:,0],1],c=\"r\",marker=\"+\",s=50)\n",
    "plt.scatter(X3[neg3[:,0],0],X3[neg3[:,0],1],c=\"y\",marker=\"o\",s=50)"
   ]
  },
  {
   "cell_type": "markdown",
   "metadata": {},
   "source": [
    "### Hyperparameter tuning"
   ]
  },
  {
   "cell_type": "code",
   "execution_count": null,
   "metadata": {},
   "outputs": [],
   "source": [
    "def dataset3Params(X, y, Xval, yval,vals):\n",
    "    \"\"\"\n",
    "    Returns your choice of C and sigma. You should complete this function to return the optimal C and \n",
    "    sigma based on a cross-validation set.\n",
    "    \"\"\"\n",
    "    acc = 0\n",
    "    best_c=0\n",
    "    best_gamma=0\n",
    "    for i in vals:\n",
    "        C= i\n",
    "        for j in vals:\n",
    "            gamma = 1/j\n",
    "            classifier = SVC(C=C,gamma=gamma)\n",
    "            classifier.fit(X,y)\n",
    "            prediction = classifier.predict(Xval)\n",
    "            score = classifier.score(Xval,yval)\n",
    "            if score>acc:\n",
    "                acc =score\n",
    "                best_c =C\n",
    "                best_gamma=gamma\n",
    "    return best_c, best_gamma"
   ]
  },
  {
   "cell_type": "code",
   "execution_count": null,
   "metadata": {},
   "outputs": [],
   "source": [
    "vals = [0.01, 0.03, 0.1, 0.3, 1, 3, 10, 30]\n",
    "\n",
    "# ########################\n",
    "#  Start of your code  #\n",
    "\n",
    "# use dataset3Params function, X3, y3.ravel(), Xval, yval.ravel and vals to find the best gama and the best C\n",
    "C, gamma = \n",
    "\n",
    "# Use a the best gamma and best C in SVC and set it to classifier4\n",
    "classifier4 = \n",
    "\n",
    "# use classifier4.fit, X3 and y3 to train the model\n",
    "classifier4.fit()\n",
    "\n",
    "#   end  of your code  #\n",
    "########################\n"
   ]
  },
  {
   "cell_type": "markdown",
   "metadata": {},
   "source": [
    "### Plotting the decision boundary"
   ]
  },
  {
   "cell_type": "code",
   "execution_count": null,
   "metadata": {},
   "outputs": [],
   "source": [
    "plt.figure(figsize=(8,6))\n",
    "plt.scatter(X3[pos3[:,0],0],X3[pos3[:,0],1],c=\"r\",marker=\"+\",s=50)\n",
    "plt.scatter(X3[neg3[:,0],0],X3[neg3[:,0],1],c=\"y\",marker=\"o\",s=50)\n",
    "\n",
    "# plotting the decision boundary\n",
    "X_7,X_8 = np.meshgrid(np.linspace(X3[:,0].min(),X3[:,1].max(),num=100),np.linspace(X3[:,1].min(),X3[:,1].max(),num=100))\n",
    "plt.contour(X_7,X_8,classifier4.predict(np.array([X_7.ravel(),X_8.ravel()]).T).reshape(X_7.shape),1,colors=\"b\")\n",
    "plt.xlim(-0.6,0.3)\n",
    "plt.ylim(-0.7,0.5)"
   ]
  }
 ],
 "metadata": {
  "kernelspec": {
   "display_name": "Python 3",
   "language": "python",
   "name": "python3"
  },
  "language_info": {
   "codemirror_mode": {
    "name": "ipython",
    "version": 3
   },
   "file_extension": ".py",
   "mimetype": "text/x-python",
   "name": "python",
   "nbconvert_exporter": "python",
   "pygments_lexer": "ipython3",
   "version": "3.7.4"
  }
 },
 "nbformat": 4,
 "nbformat_minor": 2
}
