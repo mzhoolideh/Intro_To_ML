{
 "cells": [
  {
   "cell_type": "markdown",
   "metadata": {},
   "source": [
    "\n",
    "# Support Vector Machines"
   ]
  },
  {
   "cell_type": "markdown",
   "metadata": {},
   "source": [
    "### Loading of the data"
   ]
  },
  {
   "cell_type": "code",
   "execution_count": 1,
   "metadata": {},
   "outputs": [],
   "source": [
    "import numpy as np\n",
    "import pandas as pd\n",
    "import matplotlib.pyplot as plt\n",
    "from scipy.io import loadmat"
   ]
  },
  {
   "cell_type": "code",
   "execution_count": 2,
   "metadata": {},
   "outputs": [],
   "source": [
    "# Run the followig code to upload data #\n",
    "\n",
    "mat = loadmat(\"ex6data1.mat\")\n",
    "X = mat[\"X\"]\n",
    "y = mat[\"y\"]"
   ]
  },
  {
   "cell_type": "markdown",
   "metadata": {},
   "source": [
    "## Plotting the data\n",
    "### Run the following cell to visualize the data points\n"
   ]
  },
  {
   "cell_type": "code",
   "execution_count": 26,
   "metadata": {},
   "outputs": [
    {
     "data": {
      "text/plain": [
       "<matplotlib.collections.PathCollection at 0x7fdc3f700a90>"
      ]
     },
     "execution_count": 26,
     "metadata": {},
     "output_type": "execute_result"
    },
    {
     "data": {
      "image/png": "[encoded data removed]",
      "text/plain": [
       "<Figure size 432x288 with 1 Axes>"
      ]
     },
     "metadata": {
      "needs_background": "light"
     },
     "output_type": "display_data"
    }
   ],
   "source": [
    "########################\n",
    "#  Start of your code  #\n",
    "\n",
    "# Find shape of X and set m and n based on it\n",
    "m = X.shape[0]\n",
    "n = X.shape[1]\n",
    "\n",
    "# Set y==1 to a variable called pos and y==0 to neg\n",
    "pos = (y==1).reshape(m,1) \n",
    "neg = (y==0).reshape(m,1)\n",
    "\n",
    "#   end  of your code  #\n",
    "########################\n",
    "\n",
    "\n",
    "\n",
    "plt.scatter(X[pos[:,0],0],X[pos[:,0],1],c=\"r\",marker=\"+\",s=50)\n",
    "plt.scatter(X[neg[:,0],0],X[neg[:,0],1],c=\"y\",marker=\"o\",s=50)"
   ]
  },
  {
   "cell_type": "markdown",
   "metadata": {},
   "source": [
    "## Use Sklearn package practically\n",
    "### Using support vector machines"
   ]
  },
  {
   "cell_type": "code",
   "execution_count": 5,
   "metadata": {},
   "outputs": [
    {
     "data": {
      "text/plain": [
       "SVC(C=1.0, cache_size=200, class_weight=None, coef0=0.0,\n",
       "    decision_function_shape='ovr', degree=3, gamma='auto_deprecated',\n",
       "    kernel='linear', max_iter=-1, probability=False, random_state=None,\n",
       "    shrinking=True, tol=0.001, verbose=False)"
      ]
     },
     "execution_count": 5,
     "metadata": {},
     "output_type": "execute_result"
    }
   ],
   "source": [
    "from sklearn.svm import SVC\n",
    "\n",
    "# ########################\n",
    "#  Start of your code  #\n",
    "\n",
    "# Use a linear kernel in SVC and set it to classifier\n",
    "classifier = SVC(kernel=\"linear\")\n",
    "\n",
    "# use classifier.fit, X and y to train the model\n",
    "classifier.fit(X,np.ravel(y))\n",
    "\n",
    "#   end  of your code  #\n",
    "########################\n"
   ]
  },
  {
   "cell_type": "markdown",
   "metadata": {},
   "source": [
    "### Visualising the Training set results"
   ]
  },
  {
   "cell_type": "code",
   "execution_count": 18,
   "metadata": {},
   "outputs": [
    {
     "data": {
      "text/plain": [
       "(1.5, 5)"
      ]
     },
     "execution_count": 18,
     "metadata": {},
     "output_type": "execute_result"
    },
    {
     "data": {
      "image/png": "[encoded data removed]",
      "text/plain": [
       "<Figure size 576x432 with 1 Axes>"
      ]
     },
     "metadata": {
      "needs_background": "light"
     },
     "output_type": "display_data"
    }
   ],
   "source": [
    "plt.figure(figsize=(8,6))\n",
    "plt.scatter(X[pos[:,0],0],X[pos[:,0],1],c=\"r\",marker=\"+\",s=50)\n",
    "plt.scatter(X[neg[:,0],0],X[neg[:,0],1],c=\"y\",marker=\"o\",s=50)\n",
    "\n",
    "# plotting the decision boundary\n",
    "X_1,X_2 = np.meshgrid(np.linspace(X[:,0].min(),X[:,0].max(),num=100),np.linspace(X[:,1].min(),X[:,1].max(),num=100))\n",
    "\n",
    "########################\n",
    "#  Start of your code  #\n",
    "\n",
    "# Use matplotlib scatter plot function to plot profit versus population\n",
    "\n",
    "\n",
    "#   end  of your code  #\n",
    "########################\n",
    "plt.contour(X_1,X_2,classifier.predict(np.array([X_1.ravel(),X_2.ravel()]).T).reshape(X_1.shape),1,colors=\"b\")\n",
    "plt.xlim(0,4.5)\n",
    "plt.ylim(1.5,5)"
   ]
  },
  {
   "cell_type": "code",
   "execution_count": 19,
   "metadata": {},
   "outputs": [
    {
     "data": {
      "text/plain": [
       "SVC(C=100, cache_size=200, class_weight=None, coef0=0.0,\n",
       "    decision_function_shape='ovr', degree=3, gamma='auto_deprecated',\n",
       "    kernel='linear', max_iter=-1, probability=False, random_state=None,\n",
       "    shrinking=True, tol=0.001, verbose=False)"
      ]
     },
     "execution_count": 19,
     "metadata": {},
     "output_type": "execute_result"
    }
   ],
   "source": [
    "# Test C = 100\n",
    "\n",
    "\n",
    "# ########################\n",
    "#  Start of your code  #\n",
    "\n",
    "# Use a linear kernel and C = 100 in SVC and set it to classifier2\n",
    "classifier2 = SVC(C=100,kernel=\"linear\")\n",
    "\n",
    "# use classifier2.fit, X and y to train the model\n",
    "classifier2.fit(X,np.ravel(y))\n",
    "\n",
    "#   end  of your code  #\n",
    "########################\n"
   ]
  },
  {
   "cell_type": "code",
   "execution_count": 20,
   "metadata": {},
   "outputs": [
    {
     "data": {
      "text/plain": [
       "(1.5, 5)"
      ]
     },
     "execution_count": 20,
     "metadata": {},
     "output_type": "execute_result"
    },
    {
     "data": {
      "image/png": "[encoded data removed]",
      "text/plain": [
       "<Figure size 576x432 with 1 Axes>"
      ]
     },
     "metadata": {
      "needs_background": "light"
     },
     "output_type": "display_data"
    }
   ],
   "source": [
    "plt.figure(figsize=(8,6))\n",
    "plt.scatter(X[pos[:,0],0],X[pos[:,0],1],c=\"r\",marker=\"+\",s=50)\n",
    "plt.scatter(X[neg[:,0],0],X[neg[:,0],1],c=\"y\",marker=\"o\",s=50)\n",
    "\n",
    "# plotting the decision boundary\n",
    "X_3,X_4 = np.meshgrid(np.linspace(X[:,0].min(),X[:,1].max(),num=100),np.linspace(X[:,1].min(),X[:,1].max(),num=100))\n",
    "plt.contour(X_3,X_4,classifier2.predict(np.array([X_3.ravel(),X_4.ravel()]).T).reshape(X_3.shape),1,colors=\"b\")\n",
    "plt.xlim(0,4.5)\n",
    "plt.ylim(1.5,5)"
   ]
  },
  {
   "cell_type": "markdown",
   "metadata": {},
   "source": [
    "### SVM with gaussian kernels"
   ]
  },
  {
   "cell_type": "code",
   "execution_count": 21,
   "metadata": {},
   "outputs": [],
   "source": [
    "# Run the followig code to upload data #\n",
    "\n",
    "mat2 = loadmat(\"ex6data2.mat\")\n",
    "X2 = mat2[\"X\"]\n",
    "y2 = mat2[\"y\"]"
   ]
  },
  {
   "cell_type": "markdown",
   "metadata": {},
   "source": [
    "### Plotting of data"
   ]
  },
  {
   "cell_type": "code",
   "execution_count": 22,
   "metadata": {},
   "outputs": [
    {
     "data": {
      "text/plain": [
       "(0.4, 1)"
      ]
     },
     "execution_count": 22,
     "metadata": {},
     "output_type": "execute_result"
    },
    {
     "data": {
      "image/png": "[encoded data removed]",
      "text/plain": [
       "<Figure size 576x432 with 1 Axes>"
      ]
     },
     "metadata": {
      "needs_background": "light"
     },
     "output_type": "display_data"
    }
   ],
   "source": [
    "m2,n2 = X2.shape[0],X2.shape[1]\n",
    "pos2,neg2= (y2==1).reshape(m2,1), (y2==0).reshape(m2,1)\n",
    "plt.figure(figsize=(8,6))\n",
    "plt.scatter(X2[pos2[:,0],0],X2[pos2[:,0],1],c=\"r\",marker=\"+\")\n",
    "plt.scatter(X2[neg2[:,0],0],X2[neg2[:,0],1],c=\"y\",marker=\"o\")\n",
    "plt.xlim(0,1)\n",
    "plt.ylim(0.4,1)"
   ]
  },
  {
   "cell_type": "code",
   "execution_count": 23,
   "metadata": {},
   "outputs": [
    {
     "data": {
      "text/plain": [
       "SVC(C=1.0, cache_size=200, class_weight=None, coef0=0.0,\n",
       "    decision_function_shape='ovr', degree=3, gamma=30, kernel='rbf',\n",
       "    max_iter=-1, probability=False, random_state=None, shrinking=True,\n",
       "    tol=0.001, verbose=False)"
      ]
     },
     "execution_count": 23,
     "metadata": {},
     "output_type": "execute_result"
    }
   ],
   "source": [
    "# ########################\n",
    "#  Start of your code  #\n",
    "\n",
    "# Use a rbf kernel and gamma = 30 in SVC and set it to classifier3\n",
    "classifier3 = SVC(kernel=\"rbf\",gamma=30)\n",
    "\n",
    "# use classifier2.fit, X2 and y2 to train the model\n",
    "classifier3.fit(X2,y2.ravel())\n",
    "\n",
    "#   end  of your code  #\n",
    "########################\n",
    "\n"
   ]
  },
  {
   "cell_type": "markdown",
   "metadata": {},
   "source": [
    "### Visualising the decision boundary"
   ]
  },
  {
   "cell_type": "code",
   "execution_count": 24,
   "metadata": {},
   "outputs": [
    {
     "data": {
      "text/plain": [
       "(0.4, 1)"
      ]
     },
     "execution_count": 24,
     "metadata": {},
     "output_type": "execute_result"
    },
    {
     "data": {
      "image/png": "[encoded data removed]",
      "text/plain": [
       "<Figure size 576x432 with 1 Axes>"
      ]
     },
     "metadata": {
      "needs_background": "light"
     },
     "output_type": "display_data"
    }
   ],
   "source": [
    "plt.figure(figsize=(8,6))\n",
    "plt.scatter(X2[pos2[:,0],0],X2[pos2[:,0],1],c=\"r\",marker=\"+\")\n",
    "plt.scatter(X2[neg2[:,0],0],X2[neg2[:,0],1],c=\"y\",marker=\"o\")\n",
    "\n",
    "\n",
    "# plotting the decision boundary\n",
    "X_5,X_6 = np.meshgrid(np.linspace(X2[:,0].min(),X2[:,1].max(),num=100),np.linspace(X2[:,1].min(),X2[:,1].max(),num=100))\n",
    "plt.contour(X_5,X_6,classifier3.predict(np.array([X_5.ravel(),X_6.ravel()]).T).reshape(X_5.shape),1,colors=\"b\")\n",
    "plt.xlim(0,1)\n",
    "plt.ylim(0.4,1)"
   ]
  },
  {
   "cell_type": "markdown",
   "metadata": {},
   "source": [
    "### Dataset 3"
   ]
  },
  {
   "cell_type": "code",
   "execution_count": 25,
   "metadata": {},
   "outputs": [],
   "source": [
    "# Run the followig code to upload data #\n",
    "\n",
    "mat3 = loadmat(\"ex6data3.mat\")\n",
    "X3 = mat3[\"X\"]\n",
    "y3 = mat3[\"y\"]\n",
    "Xval = mat3[\"Xval\"]\n",
    "yval = mat3[\"yval\"]"
   ]
  },
  {
   "cell_type": "code",
   "execution_count": 28,
   "metadata": {},
   "outputs": [
    {
     "data": {
      "text/plain": [
       "<matplotlib.collections.PathCollection at 0x7fdc3f24c1d0>"
      ]
     },
     "execution_count": 28,
     "metadata": {},
     "output_type": "execute_result"
    },
    {
     "data": {
      "image/png": "[encoded data removed]",
      "text/plain": [
       "<Figure size 576x432 with 1 Axes>"
      ]
     },
     "metadata": {
      "needs_background": "light"
     },
     "output_type": "display_data"
    }
   ],
   "source": [
    "########################\n",
    "#  Start of your code  #\n",
    "\n",
    "# Find shape of X and set m and n based on it\n",
    "m = X3.shape[0]\n",
    "n = X3.shape[1]\n",
    "\n",
    "# Set y3==1 to a variable called pos and y3==0 to neg\n",
    "pos3 = (y3==1).reshape(m,1) \n",
    "neg3 = (y3==0).reshape(m,1)\n",
    "\n",
    "#   end  of your code  #\n",
    "########################\n",
    "\n",
    "plt.figure(figsize=(8,6))\n",
    "plt.scatter(X3[pos3[:,0],0],X3[pos3[:,0],1],c=\"r\",marker=\"+\",s=50)\n",
    "plt.scatter(X3[neg3[:,0],0],X3[neg3[:,0],1],c=\"y\",marker=\"o\",s=50)"
   ]
  },
  {
   "cell_type": "markdown",
   "metadata": {},
   "source": [
    "### Hyperparameter tuning"
   ]
  },
  {
   "cell_type": "code",
   "execution_count": 29,
   "metadata": {},
   "outputs": [],
   "source": [
    "def dataset3Params(X, y, Xval, yval,vals):\n",
    "    \"\"\"\n",
    "    Returns your choice of C and sigma. You should complete this function to return the optimal C and \n",
    "    sigma based on a cross-validation set.\n",
    "    \"\"\"\n",
    "    acc = 0\n",
    "    best_c=0\n",
    "    best_gamma=0\n",
    "    for i in vals:\n",
    "        C= i\n",
    "        for j in vals:\n",
    "            gamma = 1/j\n",
    "            classifier = SVC(C=C,gamma=gamma)\n",
    "            classifier.fit(X,y)\n",
    "            prediction = classifier.predict(Xval)\n",
    "            score = classifier.score(Xval,yval)\n",
    "            if score>acc:\n",
    "                acc =score\n",
    "                best_c =C\n",
    "                best_gamma=gamma\n",
    "    return best_c, best_gamma"
   ]
  },
  {
   "cell_type": "code",
   "execution_count": 33,
   "metadata": {},
   "outputs": [
    {
     "data": {
      "text/plain": [
       "SVC(C=0.3, cache_size=200, class_weight=None, coef0=0.0,\n",
       "    decision_function_shape='ovr', degree=3, gamma=100.0, kernel='rbf',\n",
       "    max_iter=-1, probability=False, random_state=None, shrinking=True,\n",
       "    tol=0.001, verbose=False)"
      ]
     },
     "execution_count": 33,
     "metadata": {},
     "output_type": "execute_result"
    }
   ],
   "source": [
    "vals = [0.01, 0.03, 0.1, 0.3, 1, 3, 10, 30]\n",
    "\n",
    "# ########################\n",
    "#  Start of your code  #\n",
    "\n",
    "# use dataset3Params function, X3, y3.ravel(), Xval, yval.ravel and vals to find the best gama and the best C\n",
    "C, gamma = dataset3Params(X3, y3.ravel(), Xval, yval.ravel(),vals)\n",
    "\n",
    "# Use a the best gamma and best C in SVC and set it to classifier4\n",
    "classifier4 = SVC(C=C,gamma=gamma)\n",
    "\n",
    "# use classifier4.fit, X3 and y3 to train the model\n",
    "classifier4.fit(X3,y3.ravel())\n",
    "\n",
    "#   end  of your code  #\n",
    "########################\n"
   ]
  },
  {
   "cell_type": "markdown",
   "metadata": {},
   "source": [
    "### Plotting the decision boundary"
   ]
  },
  {
   "cell_type": "code",
   "execution_count": 34,
   "metadata": {},
   "outputs": [
    {
     "data": {
      "text/plain": [
       "(-0.7, 0.5)"
      ]
     },
     "execution_count": 34,
     "metadata": {},
     "output_type": "execute_result"
    },
    {
     "data": {
      "image/png": "[encoded data removed]",
      "text/plain": [
       "<Figure size 576x432 with 1 Axes>"
      ]
     },
     "metadata": {
      "needs_background": "light"
     },
     "output_type": "display_data"
    }
   ],
   "source": [
    "plt.figure(figsize=(8,6))\n",
    "plt.scatter(X3[pos3[:,0],0],X3[pos3[:,0],1],c=\"r\",marker=\"+\",s=50)\n",
    "plt.scatter(X3[neg3[:,0],0],X3[neg3[:,0],1],c=\"y\",marker=\"o\",s=50)\n",
    "\n",
    "# plotting the decision boundary\n",
    "X_7,X_8 = np.meshgrid(np.linspace(X3[:,0].min(),X3[:,1].max(),num=100),np.linspace(X3[:,1].min(),X3[:,1].max(),num=100))\n",
    "plt.contour(X_7,X_8,classifier4.predict(np.array([X_7.ravel(),X_8.ravel()]).T).reshape(X_7.shape),1,colors=\"b\")\n",
    "plt.xlim(-0.6,0.3)\n",
    "plt.ylim(-0.7,0.5)"
   ]
  },
  {
   "cell_type": "markdown",
   "metadata": {},
   "source": [
    "### Spam Classification"
   ]
  },
  {
   "cell_type": "code",
   "execution_count": 18,
   "metadata": {},
   "outputs": [],
   "source": [
    "import re\n",
    "from nltk.stem import PorterStemmer\n",
    "\n",
    "file_contents = open(\"emailSample1.txt\",\"r\").read()\n",
    "vocabList = open(\"vocab.txt\",\"r\").read()"
   ]
  },
  {
   "cell_type": "code",
   "execution_count": 19,
   "metadata": {},
   "outputs": [],
   "source": [
    "vocabList=vocabList.split(\"\\n\")[:-1]\n",
    "\n",
    "vocabList_d={}\n",
    "for ea in vocabList:\n",
    "    value,key = ea.split(\"\\t\")[:]\n",
    "    vocabList_d[key] = value"
   ]
  },
  {
   "cell_type": "code",
   "execution_count": 20,
   "metadata": {},
   "outputs": [
    {
     "data": {
      "text/plain": [
       "\"> Anyone knows how much it costs to host a web portal ?\\n>\\nWell, it depends on how many visitors you're expecting.\\nThis can be anywhere from less than 10 bucks a month to a couple of $100. \\nYou should checkout http://www.rackspace.com/ or perhaps Amazon EC2 \\nif youre running something big..\\n\\nTo unsubscribe yourself from this mailing list, send an email to:\\ngroupname-unsubscribe@egroups.com\\n\\n\""
      ]
     },
     "execution_count": 20,
     "metadata": {},
     "output_type": "execute_result"
    }
   ],
   "source": [
    "file_contents"
   ]
  },
  {
   "cell_type": "markdown",
   "metadata": {},
   "source": [
    "### Preprocessing emails"
   ]
  },
  {
   "cell_type": "code",
   "execution_count": 21,
   "metadata": {},
   "outputs": [],
   "source": [
    "def processEmail(email_contents,vocabList_d):\n",
    "    \"\"\"\n",
    "    Preprocesses the body of an email and returns a list of indices of the words contained in the email. \n",
    "    \"\"\"\n",
    "    # Lower case\n",
    "    email_contents = email_contents.lower()\n",
    "    \n",
    "    # Handle numbers\n",
    "    email_contents = re.sub(\"[0-9]+\",\"number\",email_contents)\n",
    "    \n",
    "    # Handle URLS\n",
    "    email_contents = re.sub(\"[http|https]://[^\\s]*\",\"httpaddr\",email_contents)\n",
    "    \n",
    "    # Handle Email Addresses\n",
    "    email_contents = re.sub(\"[^\\s]+@[^\\s]+\",\"emailaddr\",email_contents)\n",
    "    \n",
    "    # Handle $ sign\n",
    "    email_contents = re.sub(\"[$]+\",\"dollar\",email_contents)\n",
    "    \n",
    "    # Strip all special characters\n",
    "    specialChar = [\"<\",\"[\",\"^\",\">\",\"+\",\"?\",\"!\",\"'\",\".\",\",\",\":\"]\n",
    "    for char in specialChar:\n",
    "        email_contents = email_contents.replace(str(char),\"\")\n",
    "    email_contents = email_contents.replace(\"\\n\",\" \")    \n",
    "    \n",
    "    # Stem the word\n",
    "    ps = PorterStemmer()\n",
    "    email_contents = [ps.stem(token) for token in email_contents.split(\" \")]\n",
    "    email_contents= \" \".join(email_contents)\n",
    "    \n",
    "    # Process the email and return word_indices\n",
    "    \n",
    "    word_indices=[]\n",
    "    \n",
    "    for char in email_contents.split():\n",
    "        if len(char) >1 and char in vocabList_d:\n",
    "            word_indices.append(int(vocabList_d[char]))\n",
    "    \n",
    "    return word_indices"
   ]
  },
  {
   "cell_type": "code",
   "execution_count": 22,
   "metadata": {},
   "outputs": [],
   "source": [
    "word_indices= processEmail(file_contents,vocabList_d)"
   ]
  },
  {
   "cell_type": "markdown",
   "metadata": {},
   "source": [
    "### Extracting features from emails"
   ]
  },
  {
   "cell_type": "code",
   "execution_count": 23,
   "metadata": {},
   "outputs": [],
   "source": [
    "def emailFeatures(word_indices, vocabList_d):\n",
    "    \"\"\"\n",
    "    Takes in a word_indices vector and  produces a feature vector from the word indices. \n",
    "    \"\"\"\n",
    "    n = len(vocabList_d)\n",
    "    \n",
    "    features = np.zeros((n,1))\n",
    "    \n",
    "    for i in word_indices:\n",
    "        features[i] =1\n",
    "        \n",
    "    return features"
   ]
  },
  {
   "cell_type": "code",
   "execution_count": 24,
   "metadata": {},
   "outputs": [
    {
     "name": "stdout",
     "output_type": "stream",
     "text": [
      "Length of feature vector:  1899\n",
      "Number of non-zero entries:  43.0\n"
     ]
    }
   ],
   "source": [
    "features = emailFeatures(word_indices,vocabList_d)\n",
    "print(\"Length of feature vector: \",len(features))\n",
    "print(\"Number of non-zero entries: \",np.sum(features))"
   ]
  },
  {
   "cell_type": "markdown",
   "metadata": {},
   "source": [
    "### Training SVM for spam classification"
   ]
  },
  {
   "cell_type": "code",
   "execution_count": 25,
   "metadata": {},
   "outputs": [],
   "source": [
    "spam_mat = loadmat(\"spamTrain.mat\")\n",
    "X_train =spam_mat[\"X\"]\n",
    "y_train = spam_mat[\"y\"]"
   ]
  },
  {
   "cell_type": "code",
   "execution_count": 26,
   "metadata": {},
   "outputs": [
    {
     "name": "stdout",
     "output_type": "stream",
     "text": [
      "Training Accuracy: 99.825 %\n"
     ]
    }
   ],
   "source": [
    "C =0.1\n",
    "spam_svc = SVC(C=0.1,kernel =\"linear\")\n",
    "spam_svc.fit(X_train,y_train.ravel())\n",
    "print(\"Training Accuracy:\",(spam_svc.score(X_train,y_train.ravel()))*100,\"%\")"
   ]
  },
  {
   "cell_type": "code",
   "execution_count": 27,
   "metadata": {},
   "outputs": [],
   "source": [
    "spam_mat_test = loadmat(\"spamTest.mat\")\n",
    "X_test = spam_mat_test[\"Xtest\"]\n",
    "y_test =spam_mat_test[\"ytest\"]"
   ]
  },
  {
   "cell_type": "code",
   "execution_count": 28,
   "metadata": {},
   "outputs": [
    {
     "name": "stdout",
     "output_type": "stream",
     "text": [
      "Test Accuracy: 98.9 %\n"
     ]
    }
   ],
   "source": [
    "spam_svc.predict(X_test)\n",
    "print(\"Test Accuracy:\",(spam_svc.score(X_test,y_test.ravel()))*100,\"%\")"
   ]
  },
  {
   "cell_type": "markdown",
   "metadata": {},
   "source": [
    "### Top predictors for spam"
   ]
  },
  {
   "cell_type": "code",
   "execution_count": 38,
   "metadata": {},
   "outputs": [],
   "source": [
    "weights = spam_svc.coef_[0]\n",
    "weights_col = np.hstack((np.arange(1,1900).reshape(1899,1),weights.reshape(1899,1)))\n",
    "df = pd.DataFrame(weights_col)\n",
    "\n",
    "df.sort_values(by=[1],ascending = False,inplace=True)\n",
    "\n",
    "predictors = []\n",
    "idx=[]\n",
    "for i in df[0][:15]:\n",
    "    for keys, values in vocabList_d.items():\n",
    "        if str(int(i)) == values:\n",
    "            predictors.append(keys)\n",
    "            idx.append(int(values))"
   ]
  },
  {
   "cell_type": "code",
   "execution_count": 42,
   "metadata": {},
   "outputs": [
    {
     "name": "stdout",
     "output_type": "stream",
     "text": [
      "Top predictors of spam:\n",
      "our \t\t 0.500614\n",
      "click \t\t 0.465916\n",
      "remov \t\t 0.422869\n",
      "guarante \t\t 0.383622\n",
      "visit \t\t 0.36771\n",
      "basenumb \t\t 0.345064\n",
      "dollar \t\t 0.323632\n",
      "will \t\t 0.269724\n",
      "price \t\t 0.267298\n",
      "pleas \t\t 0.261169\n",
      "most \t\t 0.257298\n",
      "nbsp \t\t 0.253941\n",
      "lo \t\t 0.253467\n",
      "ga \t\t 0.248297\n",
      "hour \t\t 0.246404\n"
     ]
    }
   ],
   "source": [
    "print(\"Top predictors of spam:\")\n",
    "\n",
    "for _ in range(15):\n",
    "    print(predictors[_],\"\\t\\t\",round(df[1][idx[_]-1],6))"
   ]
  }
 ],
 "metadata": {
  "kernelspec": {
   "display_name": "Python 3",
   "language": "python",
   "name": "python3"
  },
  "language_info": {
   "codemirror_mode": {
    "name": "ipython",
    "version": 3
   },
   "file_extension": ".py",
   "mimetype": "text/x-python",
   "name": "python",
   "nbconvert_exporter": "python",
   "pygments_lexer": "ipython3",
   "version": "3.7.4"
  }
 },
 "nbformat": 4,
 "nbformat_minor": 2
}
