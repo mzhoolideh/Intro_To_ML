{
 "cells": [
  {
   "cell_type": "markdown",
   "metadata": {},
   "source": [
    "# In order to Run a cell, just press <span style=\"color:blue\"> shift+enter.</span>"
   ]
  },
  {
   "cell_type": "code",
   "execution_count": 163,
   "metadata": {},
   "outputs": [],
   "source": [
    "import numpy as np\n",
    "import matplotlib.pyplot as plt\n",
    "import pandas as pd"
   ]
  },
  {
   "cell_type": "code",
   "execution_count": 164,
   "metadata": {},
   "outputs": [
    {
     "data": {
      "text/plain": [
       "(97, 2)"
      ]
     },
     "execution_count": 164,
     "metadata": {},
     "output_type": "execute_result"
    }
   ],
   "source": [
    "# Run the followig code to upload data #\n",
    "data = np.loadtxt(\"./ex1data1.txt\", delimiter=',')\n",
    "\n",
    "# This command shows the shape of the data\n",
    "data.shape"
   ]
  },
  {
   "cell_type": "markdown",
   "metadata": {},
   "source": [
    "### Plotting the Data\n",
    "Before starting on any task, it is often useful to understand the data by visualizing it. For this dataset, you can use a scatter plot to visualize the data, since it has only two properties to plot (profit and population). (Many other problems that you will encounter in real life are multi-dimensional and can’t be plotted on a 2-d plot.)\n",
    "\n",
    "### Run the following cell to visualize the data points\n"
   ]
  },
  {
   "cell_type": "code",
   "execution_count": 187,
   "metadata": {},
   "outputs": [
    {
     "data": {
      "text/plain": [
       "Text(0.5, 1.0, 'Profit Vs Population')"
      ]
     },
     "execution_count": 187,
     "metadata": {},
     "output_type": "execute_result"
    },
    {
     "data": {
      "image/png": "[encoded data removed]",
      "text/plain": [
       "<Figure size 648x432 with 1 Axes>"
      ]
     },
     "metadata": {
      "needs_background": "light"
     },
     "output_type": "display_data"
    }
   ],
   "source": [
    "plt.figure(figsize=(9,6))\n",
    "\n",
    "########################\n",
    "#  Start of your code  #\n",
    "\n",
    "# Use matplotlib scatter plot function to plot profit versus population\n",
    "plt.scatter(data[:,0],data[:,1], marker= '+', s=75)\n",
    "\n",
    "#   end  of your code  #\n",
    "########################\n",
    "\n",
    "plt.xticks(np.arange(5,30,step=5))\n",
    "plt.yticks(np.arange(-5,30,step=5))\n",
    "plt.xlabel(\"Population of City (10,000s)\" , fontsize=18 )\n",
    "plt.ylabel(\"Profit ($10,000\", fontsize=18)\n",
    "plt.title(\"Profit Vs Population\", fontsize=18)"
   ]
  },
  {
   "cell_type": "markdown",
   "metadata": {},
   "source": [
    "## Cost function\n",
    "\n",
    "The objective of linear regression is to minimize the cost function\n",
    "\n",
    "$ J(\\theta_0 , \\theta_1) = \\frac{1}{2m} \\Sigma_{i=1}^m (h_\\theta(x^{(i)} - y^{(i)} )^2$\n",
    "\n",
    "where the hypothesis $h_\\theta(x)$ is given by the linear model\n",
    "\n",
    "$h_\\theta(x) = \\theta^T x = \\theta_0 + \\theta_1 x_1$\n",
    "\n"
   ]
  },
  {
   "cell_type": "code",
   "execution_count": 109,
   "metadata": {},
   "outputs": [],
   "source": [
    "def computeCost(X,y,theta):\n",
    "    \"\"\"\n",
    "    Take in a numpy array X,y, theta and generate the cost function     of using theta as parameter in a linear regression model\n",
    "    \"\"\"\n",
    "    ########################\n",
    "    #  Start of your code  #\n",
    "    \n",
    "    # find the number of the trainig set and set it to m\n",
    "    m = \n",
    "\n",
    "    \n",
    "    # Use the Normal equation to calculate the hypothesis \n",
    "    hypothesis = \n",
    "    \n",
    "    # Calculate the cost function and set it to J. You can use np.sum to sum over different data points\n",
    "    J = \n",
    "    \n",
    "    #   end  of your code  #\n",
    "    ########################\n",
    "    \n",
    "    return J\n"
   ]
  },
  {
   "cell_type": "markdown",
   "metadata": {},
   "source": [
    "Once you have completed the function, the next step will run computeCost once using $\\theta$ initialized to zeros, and you will see the cost printed to the screen.\n",
    "You should expect to see   <span style=\"color:blue\"> a cost of 32.07</span>.\n"
   ]
  },
  {
   "cell_type": "code",
   "execution_count": 110,
   "metadata": {},
   "outputs": [
    {
     "data": {
      "text/plain": [
       "32.072733877455676"
      ]
     },
     "execution_count": 110,
     "metadata": {},
     "output_type": "execute_result"
    }
   ],
   "source": [
    "\n",
    "########################\n",
    "#  Start of your code  #\n",
    "\n",
    "# find the number of the trainig set and set it to m\n",
    "m = \n",
    "\n",
    "# Add a column of 1's to the training_set and name it X (np.append can be useful here)\n",
    "X = \n",
    "\n",
    "# Choose the last column as labels and asign it to y\n",
    "y = \n",
    "\n",
    "# Initiate theta as a (2,1) zero vector (np.zerose can be useful here)\n",
    "theta = \n",
    "\n",
    "# Calculate costfunction by the using computeCost defined above(your resut should be around 32.07)\n",
    "\n",
    "#   end  of your code  #\n",
    "########################"
   ]
  },
  {
   "cell_type": "code",
   "execution_count": 172,
   "metadata": {},
   "outputs": [
    {
     "data": {
      "text/plain": [
       "32.072733877455676"
      ]
     },
     "execution_count": 172,
     "metadata": {},
     "output_type": "execute_result"
    }
   ],
   "source": [
    "X = np.append(np.ones((m,1)),data[:,0].reshape(m,1),axis=1)\n",
    "y=data[:,1].reshape(m,1)\n",
    "theta=np.zeros((2,1))\n",
    "computeCost(X,y,theta)"
   ]
  },
  {
   "cell_type": "markdown",
   "metadata": {},
   "source": [
    "## Gradient Descent\n",
    "In this part, you will fit the linear regression parameters θ to our dataset using gradient descent.\n",
    "\n",
    "Recall that the parameters of your model are the $\\theta_j$ values. These are the values you will adjust to minimize cost $ J(\\theta)$. One way to do this is to use the batch gradient descent algorithm. In batch gradient descent, each iteration performs the update\n",
    "\n",
    "$\\theta_j := \\theta_j - \\alpha \\frac{1 }{m} \\Sigma_{i=1}^m (h_\\theta(x^{(i)} )- y^{(i)}) ~ x^{(i)}_j$ $~~$ ( Eq. 2 )\n",
    "\n",
    "With each step of gradient descent, your parameters $\\theta_j$ come closer to the optimal values that will achieve the lowest cost $J(\\theta)$.\n",
    "\n",
    "Next, you will implement gradient descent in the following cell. The loop structure has been written for you, and you only need to supply the updates to $\\theta$ within each iteration.\n",
    "As you program, make sure you understand what you are trying to optimize and what is being updated. Keep in mind that the cost $J(\\theta)$ is parameterized by the vector $\\theta$, not X and y. That is, we minimize the value of $J(\\theta)$ by changing the values of the vector $\\theta$, not by changing X or y."
   ]
  },
  {
   "cell_type": "code",
   "execution_count": 173,
   "metadata": {},
   "outputs": [
    {
     "name": "stdout",
     "output_type": "stream",
     "text": [
      "h(x) =-3.63 + 1.17x1\n"
     ]
    }
   ],
   "source": [
    "def gradientDescent(X,y,theta,alpha,num_iters):\n",
    "    \"\"\"\n",
    "    Take in numpy array X, y and theta and update theta by taking   num_iters gradient steps\n",
    "    with learning rate of alpha\n",
    "    \n",
    "    return theta and the list of the cost of theta during each  iteration\n",
    "    \"\"\"\n",
    "    \n",
    "########################\n",
    "#  Start of your code  #\n",
    "    \n",
    "    # find the number of the trainig set and set it to m\n",
    "    m = \n",
    "    J_history=[]\n",
    "    \n",
    "    for i in range(num_iters):\n",
    "        \n",
    "        # Use the product of X and theta to calculate the hypothesis \n",
    "        hypothesis = \n",
    "        \n",
    "        # Calculate the derivative of cost function (Which is the second term in Eq.2)\n",
    "        # Note that you can use matrix products insted of using sumation\n",
    "        cost_deriv = \n",
    "        \n",
    "        # Update the values of theta using Eq.2\n",
    "        theta = \n",
    "        \n",
    "        # Use computeCost to calculate the cost function and append it to the J_history list\n",
    "        J_history.append(computeCost(X,y,theta))\n",
    "    \n",
    "    return theta, J_history\n",
    "\n",
    "# Calculate theta and J_history for theta=0.01 and num_iter = 1500 by gradientDescent defined above\n",
    "theta,J_history = \n",
    "\n",
    "#   end  of your code  #\n",
    "########################\n",
    "\n",
    "print(\"h(x) =\"+str(round(theta[0,0],2))+\" + \"+str(round(theta[1,0],2))+\"x1\")"
   ]
  },
  {
   "cell_type": "markdown",
   "metadata": {},
   "source": [
    "A good way to verify that gradient descent is working correctly is to look at the value of J(θ) and check that it is decreasing with each step. Assuming you have implemented gradient descent and computeCost correctly, your value of J(θ) should never increase, and should converge to a steady value by the end of the algorithm.\n",
    "\n",
    "### Run the following cell to plot J_history for differnet iterations"
   ]
  },
  {
   "cell_type": "code",
   "execution_count": 174,
   "metadata": {},
   "outputs": [
    {
     "data": {
      "text/plain": [
       "Text(0.5, 1.0, 'Cost function using Gradient Descent')"
      ]
     },
     "execution_count": 174,
     "metadata": {},
     "output_type": "execute_result"
    },
    {
     "data": {
      "image/png": "[encoded data removed]",
      "text/plain": [
       "<Figure size 432x288 with 1 Axes>"
      ]
     },
     "metadata": {
      "needs_background": "light"
     },
     "output_type": "display_data"
    }
   ],
   "source": [
    "plt.plot(J_history)\n",
    "plt.xlabel(\"Iteration\")\n",
    "plt.ylabel(\"$J(\\Theta)$\")\n",
    "plt.title(\"Cost function using Gradient Descent\")"
   ]
  },
  {
   "cell_type": "markdown",
   "metadata": {},
   "source": [
    "**Now that you have $\\theta_0$ and $\\theta_1$ after 1500 iterations, use them to calculate y and plot best fit line that goes through data points. For this you can calculate y at two optional points (e.g. x1=4 and x2=25) and by using plt.plot, you can plot the line that match (x1, y1) to (x2, y2)**"
   ]
  },
  {
   "cell_type": "code",
   "execution_count": 202,
   "metadata": {},
   "outputs": [
    {
     "data": {
      "text/plain": [
       "Text(0.5, 1.0, 'Profit vs Population')"
      ]
     },
     "execution_count": 202,
     "metadata": {},
     "output_type": "execute_result"
    },
    {
     "data": {
      "image/png": "[encoded data removed]",
      "text/plain": [
       "<Figure size 648x432 with 1 Axes>"
      ]
     },
     "metadata": {
      "needs_background": "light"
     },
     "output_type": "display_data"
    }
   ],
   "source": [
    "plt.figure(figsize=(9,6))\n",
    "plt.scatter(data[:,0],data[:,1], marker='+', s=75)\n",
    "x_value=[4,25]\n",
    "y_value=[theta[0] + x*theta[1] for x in x_value]\n",
    "plt.plot(x_value,y_value,color=\"r\", label='Best fit line')\n",
    "plt.xticks(np.arange(5,30,step=5))\n",
    "plt.yticks(np.arange(-5,30,step=5))\n",
    "plt.xlabel(\"Population of City (10,000s)\", fontsize=18)\n",
    "plt.ylabel(\"Profit ($10,000)\", fontsize=18)\n",
    "plt.legend(fontsize=14)\n",
    "plt.title(\"Profit vs Population\", fontsize=18)"
   ]
  },
  {
   "cell_type": "markdown",
   "metadata": {},
   "source": [
    "### Define a function and name it predict which uses the learned parameters, $\\theta$ and predict the expected profit."
   ]
  },
  {
   "cell_type": "code",
   "execution_count": 207,
   "metadata": {},
   "outputs": [
    {
     "name": "stdout",
     "output_type": "stream",
     "text": [
      "For population = 35,000, we predict a profit of $4520.0\n"
     ]
    }
   ],
   "source": [
    "def predict(x,theta):\n",
    "    \"\"\"\n",
    "    Takes in numpy array of x and theta and return the predicted value of y based on theta\n",
    "    \"\"\"\n",
    "########################\n",
    "#  Start of your code  #\n",
    "\n",
    "    hypothesis= np.dot(x, theta)\n",
    "    \n",
    "    return hypothesis[0]\n",
    "\n",
    "#   end  of your code  #\n",
    "########################\n"
   ]
  },
  {
   "cell_type": "markdown",
   "metadata": {},
   "source": [
    "**Predict profits for two cities with populations of 35000 and 70000. Note that you should use 3.5 and 7 \n",
    "in your calculations as data is provided in 10000s unit**"
   ]
  },
  {
   "cell_type": "code",
   "execution_count": 208,
   "metadata": {},
   "outputs": [
    {
     "name": "stdout",
     "output_type": "stream",
     "text": [
      "For population = 35,000, we predict a profit of $4520.0\n"
     ]
    }
   ],
   "source": [
    "predict1 = predict(np.array([1,3.5]),theta)*10000\n",
    "print(\"For population = 35,000, we predict a profit of $\"+str(round(predict1,0)))"
   ]
  },
  {
   "cell_type": "code",
   "execution_count": 209,
   "metadata": {},
   "outputs": [
    {
     "name": "stdout",
     "output_type": "stream",
     "text": [
      "For population = 70,000, we predict a profit of $45342.0\n"
     ]
    }
   ],
   "source": [
    "predict2=predict(np.array([1,7]),theta)*10000\n",
    "print(\"For population = 70,000, we predict a profit of $\"+str(round(predict2,0)))"
   ]
  },
  {
   "cell_type": "code",
   "execution_count": null,
   "metadata": {},
   "outputs": [],
   "source": []
  }
 ],
 "metadata": {
  "kernelspec": {
   "display_name": "Python 3",
   "language": "python",
   "name": "python3"
  },
  "language_info": {
   "codemirror_mode": {
    "name": "ipython",
    "version": 3
   },
   "file_extension": ".py",
   "mimetype": "text/x-python",
   "name": "python",
   "nbconvert_exporter": "python",
   "pygments_lexer": "ipython3",
   "version": "3.7.4"
  }
 },
 "nbformat": 4,
 "nbformat_minor": 2
}
